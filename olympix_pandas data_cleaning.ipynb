{
 "cells": [
  {
   "cell_type": "markdown",
   "id": "62a70456",
   "metadata": {},
   "source": [
    "# INTRODUCTION\n",
    "\n",
    "\n",
    "Doing analsis on the Olympix data of country's with gold, silver, bronze, and total medal won by each country. \n",
    "\n",
    "## Data Description\n",
    "\n",
    "| Variables | Explanation of variable |\n",
    "| :----- | :----- |\n",
    "|**name**| name of the player |\n",
    "|**age**| age of the player |\n",
    "|**country**| participated country player |\n",
    "|**year**| olympix game of 2002 to 2012  |\n",
    "|**Date_Given**| it is the date when game was played |\n",
    "|**sports**| all game names |\n",
    "|**gold_medal**| gold medal won by country   |\n",
    "|**silver_medal**| silver medal won by country |\n",
    "|**brone_medal**| bronze medal won by country |\n",
    "|**total_medal**| total medal won by country |"
   ]
  },
  {
   "cell_type": "code",
   "execution_count": 101,
   "id": "7ee48c44",
   "metadata": {},
   "outputs": [],
   "source": [
    "# importing all libraries\n",
    "import pandas as pd\n",
    "import numpy as np\n",
    "import matplotlib.pyplot as plt\n",
    "import seaborn as sns\n",
    "import os\n",
    "import missingno as msno"
   ]
  },
  {
   "cell_type": "markdown",
   "id": "f1ad3866",
   "metadata": {},
   "source": [
    "## Please do the basic exploration of the data."
   ]
  },
  {
   "cell_type": "code",
   "execution_count": 102,
   "id": "c24f6560",
   "metadata": {},
   "outputs": [],
   "source": [
    "# loading data\n",
    "olympix = pd.read_csv(\"olympix_data_organized_with_header (1) (1).csv\")"
   ]
  },
  {
   "cell_type": "code",
   "execution_count": 103,
   "id": "b3bd40e4",
   "metadata": {},
   "outputs": [
    {
     "data": {
      "text/html": [
       "<div>\n",
       "<style scoped>\n",
       "    .dataframe tbody tr th:only-of-type {\n",
       "        vertical-align: middle;\n",
       "    }\n",
       "\n",
       "    .dataframe tbody tr th {\n",
       "        vertical-align: top;\n",
       "    }\n",
       "\n",
       "    .dataframe thead th {\n",
       "        text-align: right;\n",
       "    }\n",
       "</style>\n",
       "<table border=\"1\" class=\"dataframe\">\n",
       "  <thead>\n",
       "    <tr style=\"text-align: right;\">\n",
       "      <th></th>\n",
       "      <th>name</th>\n",
       "      <th>age</th>\n",
       "      <th>country</th>\n",
       "      <th>year</th>\n",
       "      <th>Date_Given</th>\n",
       "      <th>sports</th>\n",
       "      <th>gold_medal</th>\n",
       "      <th>silver_medal</th>\n",
       "      <th>brone_medal</th>\n",
       "      <th>total_medal</th>\n",
       "    </tr>\n",
       "  </thead>\n",
       "  <tbody>\n",
       "    <tr>\n",
       "      <th>0</th>\n",
       "      <td>Michael Phelps</td>\n",
       "      <td>23.0</td>\n",
       "      <td>United States</td>\n",
       "      <td>2008</td>\n",
       "      <td>8/24/2008</td>\n",
       "      <td>Swimming</td>\n",
       "      <td>8</td>\n",
       "      <td>0</td>\n",
       "      <td>0</td>\n",
       "      <td>8</td>\n",
       "    </tr>\n",
       "    <tr>\n",
       "      <th>1</th>\n",
       "      <td>Michael Phelps</td>\n",
       "      <td>19.0</td>\n",
       "      <td>United States</td>\n",
       "      <td>2004</td>\n",
       "      <td>8/29/2004</td>\n",
       "      <td>Swimming</td>\n",
       "      <td>6</td>\n",
       "      <td>0</td>\n",
       "      <td>2</td>\n",
       "      <td>8</td>\n",
       "    </tr>\n",
       "    <tr>\n",
       "      <th>2</th>\n",
       "      <td>Michael Phelps</td>\n",
       "      <td>27.0</td>\n",
       "      <td>United States</td>\n",
       "      <td>2012</td>\n",
       "      <td>08-12-2012</td>\n",
       "      <td>Swimming</td>\n",
       "      <td>4</td>\n",
       "      <td>2</td>\n",
       "      <td>0</td>\n",
       "      <td>6</td>\n",
       "    </tr>\n",
       "    <tr>\n",
       "      <th>3</th>\n",
       "      <td>Natalie Coughlin</td>\n",
       "      <td>25.0</td>\n",
       "      <td>United States</td>\n",
       "      <td>2008</td>\n",
       "      <td>8/24/2008</td>\n",
       "      <td>Swimming</td>\n",
       "      <td>1</td>\n",
       "      <td>2</td>\n",
       "      <td>3</td>\n",
       "      <td>6</td>\n",
       "    </tr>\n",
       "    <tr>\n",
       "      <th>4</th>\n",
       "      <td>Aleksey Nemov</td>\n",
       "      <td>24.0</td>\n",
       "      <td>Russia</td>\n",
       "      <td>2000</td>\n",
       "      <td>10-01-2000</td>\n",
       "      <td>Gymnastics</td>\n",
       "      <td>2</td>\n",
       "      <td>1</td>\n",
       "      <td>3</td>\n",
       "      <td>6</td>\n",
       "    </tr>\n",
       "  </tbody>\n",
       "</table>\n",
       "</div>"
      ],
      "text/plain": [
       "               name   age        country  year  Date_Given      sports  \\\n",
       "0    Michael Phelps  23.0  United States  2008   8/24/2008    Swimming   \n",
       "1    Michael Phelps  19.0  United States  2004   8/29/2004    Swimming   \n",
       "2    Michael Phelps  27.0  United States  2012  08-12-2012    Swimming   \n",
       "3  Natalie Coughlin  25.0  United States  2008   8/24/2008    Swimming   \n",
       "4     Aleksey Nemov  24.0         Russia  2000  10-01-2000  Gymnastics   \n",
       "\n",
       "   gold_medal  silver_medal  brone_medal  total_medal  \n",
       "0           8             0            0            8  \n",
       "1           6             0            2            8  \n",
       "2           4             2            0            6  \n",
       "3           1             2            3            6  \n",
       "4           2             1            3            6  "
      ]
     },
     "execution_count": 103,
     "metadata": {},
     "output_type": "execute_result"
    }
   ],
   "source": [
    "olympix.head()        # head of the table"
   ]
  },
  {
   "cell_type": "code",
   "execution_count": 104,
   "id": "9038e9c5",
   "metadata": {},
   "outputs": [
    {
     "data": {
      "text/html": [
       "<div>\n",
       "<style scoped>\n",
       "    .dataframe tbody tr th:only-of-type {\n",
       "        vertical-align: middle;\n",
       "    }\n",
       "\n",
       "    .dataframe tbody tr th {\n",
       "        vertical-align: top;\n",
       "    }\n",
       "\n",
       "    .dataframe thead th {\n",
       "        text-align: right;\n",
       "    }\n",
       "</style>\n",
       "<table border=\"1\" class=\"dataframe\">\n",
       "  <thead>\n",
       "    <tr style=\"text-align: right;\">\n",
       "      <th></th>\n",
       "      <th>name</th>\n",
       "      <th>age</th>\n",
       "      <th>country</th>\n",
       "      <th>year</th>\n",
       "      <th>Date_Given</th>\n",
       "      <th>sports</th>\n",
       "      <th>gold_medal</th>\n",
       "      <th>silver_medal</th>\n",
       "      <th>brone_medal</th>\n",
       "      <th>total_medal</th>\n",
       "    </tr>\n",
       "  </thead>\n",
       "  <tbody>\n",
       "    <tr>\n",
       "      <th>8613</th>\n",
       "      <td>Olena Sadovnycha</td>\n",
       "      <td>32.0</td>\n",
       "      <td>Ukraine</td>\n",
       "      <td>2000</td>\n",
       "      <td>10-01-2000</td>\n",
       "      <td>Archery</td>\n",
       "      <td>0</td>\n",
       "      <td>1</td>\n",
       "      <td>0</td>\n",
       "      <td>1</td>\n",
       "    </tr>\n",
       "    <tr>\n",
       "      <th>8614</th>\n",
       "      <td>Kateryna Serdiuk</td>\n",
       "      <td>17.0</td>\n",
       "      <td>Ukraine</td>\n",
       "      <td>2000</td>\n",
       "      <td>10-01-2000</td>\n",
       "      <td>Archery</td>\n",
       "      <td>0</td>\n",
       "      <td>1</td>\n",
       "      <td>0</td>\n",
       "      <td>1</td>\n",
       "    </tr>\n",
       "    <tr>\n",
       "      <th>8615</th>\n",
       "      <td>Wietse van Alten</td>\n",
       "      <td>21.0</td>\n",
       "      <td>Netherlands</td>\n",
       "      <td>2000</td>\n",
       "      <td>10-01-2000</td>\n",
       "      <td>Archery</td>\n",
       "      <td>0</td>\n",
       "      <td>0</td>\n",
       "      <td>1</td>\n",
       "      <td>1</td>\n",
       "    </tr>\n",
       "    <tr>\n",
       "      <th>8616</th>\n",
       "      <td>Sandra Wagner-Sachse</td>\n",
       "      <td>31.0</td>\n",
       "      <td>Germany</td>\n",
       "      <td>2000</td>\n",
       "      <td>10-01-2000</td>\n",
       "      <td>Archery</td>\n",
       "      <td>0</td>\n",
       "      <td>0</td>\n",
       "      <td>1</td>\n",
       "      <td>1</td>\n",
       "    </tr>\n",
       "    <tr>\n",
       "      <th>8617</th>\n",
       "      <td>Rod White</td>\n",
       "      <td>23.0</td>\n",
       "      <td>United States</td>\n",
       "      <td>2000</td>\n",
       "      <td>10-01-2000</td>\n",
       "      <td>Archery</td>\n",
       "      <td>0</td>\n",
       "      <td>0</td>\n",
       "      <td>1</td>\n",
       "      <td>1</td>\n",
       "    </tr>\n",
       "  </tbody>\n",
       "</table>\n",
       "</div>"
      ],
      "text/plain": [
       "                      name   age        country  year  Date_Given   sports  \\\n",
       "8613      Olena Sadovnycha  32.0        Ukraine  2000  10-01-2000  Archery   \n",
       "8614      Kateryna Serdiuk  17.0        Ukraine  2000  10-01-2000  Archery   \n",
       "8615      Wietse van Alten  21.0    Netherlands  2000  10-01-2000  Archery   \n",
       "8616  Sandra Wagner-Sachse  31.0        Germany  2000  10-01-2000  Archery   \n",
       "8617             Rod White  23.0  United States  2000  10-01-2000  Archery   \n",
       "\n",
       "      gold_medal  silver_medal  brone_medal  total_medal  \n",
       "8613           0             1            0            1  \n",
       "8614           0             1            0            1  \n",
       "8615           0             0            1            1  \n",
       "8616           0             0            1            1  \n",
       "8617           0             0            1            1  "
      ]
     },
     "execution_count": 104,
     "metadata": {},
     "output_type": "execute_result"
    }
   ],
   "source": [
    "olympix.tail()    # tail of the table"
   ]
  },
  {
   "cell_type": "code",
   "execution_count": 105,
   "id": "950dc991",
   "metadata": {},
   "outputs": [
    {
     "name": "stdout",
     "output_type": "stream",
     "text": [
      "<class 'pandas.core.frame.DataFrame'>\n",
      "RangeIndex: 8618 entries, 0 to 8617\n",
      "Data columns (total 10 columns):\n",
      " #   Column        Non-Null Count  Dtype  \n",
      "---  ------        --------------  -----  \n",
      " 0   name          8613 non-null   object \n",
      " 1   age           8613 non-null   float64\n",
      " 2   country       8618 non-null   object \n",
      " 3   year          8618 non-null   int64  \n",
      " 4   Date_Given    8618 non-null   object \n",
      " 5   sports        8618 non-null   object \n",
      " 6   gold_medal    8618 non-null   int64  \n",
      " 7   silver_medal  8618 non-null   int64  \n",
      " 8   brone_medal   8618 non-null   int64  \n",
      " 9   total_medal   8618 non-null   int64  \n",
      "dtypes: float64(1), int64(5), object(4)\n",
      "memory usage: 673.4+ KB\n"
     ]
    }
   ],
   "source": [
    "olympix.info()      # checking the dtype of all column."
   ]
  },
  {
   "cell_type": "code",
   "execution_count": 106,
   "id": "dacedaa7",
   "metadata": {},
   "outputs": [
    {
     "data": {
      "text/html": [
       "<div>\n",
       "<style scoped>\n",
       "    .dataframe tbody tr th:only-of-type {\n",
       "        vertical-align: middle;\n",
       "    }\n",
       "\n",
       "    .dataframe tbody tr th {\n",
       "        vertical-align: top;\n",
       "    }\n",
       "\n",
       "    .dataframe thead th {\n",
       "        text-align: right;\n",
       "    }\n",
       "</style>\n",
       "<table border=\"1\" class=\"dataframe\">\n",
       "  <thead>\n",
       "    <tr style=\"text-align: right;\">\n",
       "      <th></th>\n",
       "      <th>name</th>\n",
       "      <th>age</th>\n",
       "      <th>country</th>\n",
       "      <th>year</th>\n",
       "      <th>Date_Given</th>\n",
       "      <th>sports</th>\n",
       "      <th>gold_medal</th>\n",
       "      <th>silver_medal</th>\n",
       "      <th>brone_medal</th>\n",
       "      <th>total_medal</th>\n",
       "    </tr>\n",
       "  </thead>\n",
       "  <tbody>\n",
       "    <tr>\n",
       "      <th>count</th>\n",
       "      <td>8613</td>\n",
       "      <td>8613.000000</td>\n",
       "      <td>8618</td>\n",
       "      <td>8618.000000</td>\n",
       "      <td>8618</td>\n",
       "      <td>8618</td>\n",
       "      <td>8618.000000</td>\n",
       "      <td>8618.000000</td>\n",
       "      <td>8618.000000</td>\n",
       "      <td>8618.000000</td>\n",
       "    </tr>\n",
       "    <tr>\n",
       "      <th>unique</th>\n",
       "      <td>6955</td>\n",
       "      <td>NaN</td>\n",
       "      <td>110</td>\n",
       "      <td>NaN</td>\n",
       "      <td>7</td>\n",
       "      <td>49</td>\n",
       "      <td>NaN</td>\n",
       "      <td>NaN</td>\n",
       "      <td>NaN</td>\n",
       "      <td>NaN</td>\n",
       "    </tr>\n",
       "    <tr>\n",
       "      <th>top</th>\n",
       "      <td>Robert Scheidt</td>\n",
       "      <td>NaN</td>\n",
       "      <td>United States</td>\n",
       "      <td>NaN</td>\n",
       "      <td>8/24/2008</td>\n",
       "      <td>Athletics</td>\n",
       "      <td>NaN</td>\n",
       "      <td>NaN</td>\n",
       "      <td>NaN</td>\n",
       "      <td>NaN</td>\n",
       "    </tr>\n",
       "    <tr>\n",
       "      <th>freq</th>\n",
       "      <td>4</td>\n",
       "      <td>NaN</td>\n",
       "      <td>1109</td>\n",
       "      <td>NaN</td>\n",
       "      <td>1872</td>\n",
       "      <td>687</td>\n",
       "      <td>NaN</td>\n",
       "      <td>NaN</td>\n",
       "      <td>NaN</td>\n",
       "      <td>NaN</td>\n",
       "    </tr>\n",
       "    <tr>\n",
       "      <th>mean</th>\n",
       "      <td>NaN</td>\n",
       "      <td>26.405434</td>\n",
       "      <td>NaN</td>\n",
       "      <td>2005.978881</td>\n",
       "      <td>NaN</td>\n",
       "      <td>NaN</td>\n",
       "      <td>0.364702</td>\n",
       "      <td>0.363309</td>\n",
       "      <td>0.377698</td>\n",
       "      <td>1.105709</td>\n",
       "    </tr>\n",
       "    <tr>\n",
       "      <th>std</th>\n",
       "      <td>NaN</td>\n",
       "      <td>5.102118</td>\n",
       "      <td>NaN</td>\n",
       "      <td>4.289946</td>\n",
       "      <td>NaN</td>\n",
       "      <td>NaN</td>\n",
       "      <td>0.545349</td>\n",
       "      <td>0.511613</td>\n",
       "      <td>0.505005</td>\n",
       "      <td>0.408892</td>\n",
       "    </tr>\n",
       "    <tr>\n",
       "      <th>min</th>\n",
       "      <td>NaN</td>\n",
       "      <td>15.000000</td>\n",
       "      <td>NaN</td>\n",
       "      <td>2000.000000</td>\n",
       "      <td>NaN</td>\n",
       "      <td>NaN</td>\n",
       "      <td>0.000000</td>\n",
       "      <td>0.000000</td>\n",
       "      <td>0.000000</td>\n",
       "      <td>1.000000</td>\n",
       "    </tr>\n",
       "    <tr>\n",
       "      <th>25%</th>\n",
       "      <td>NaN</td>\n",
       "      <td>23.000000</td>\n",
       "      <td>NaN</td>\n",
       "      <td>2002.000000</td>\n",
       "      <td>NaN</td>\n",
       "      <td>NaN</td>\n",
       "      <td>0.000000</td>\n",
       "      <td>0.000000</td>\n",
       "      <td>0.000000</td>\n",
       "      <td>1.000000</td>\n",
       "    </tr>\n",
       "    <tr>\n",
       "      <th>50%</th>\n",
       "      <td>NaN</td>\n",
       "      <td>26.000000</td>\n",
       "      <td>NaN</td>\n",
       "      <td>2006.000000</td>\n",
       "      <td>NaN</td>\n",
       "      <td>NaN</td>\n",
       "      <td>0.000000</td>\n",
       "      <td>0.000000</td>\n",
       "      <td>0.000000</td>\n",
       "      <td>1.000000</td>\n",
       "    </tr>\n",
       "    <tr>\n",
       "      <th>75%</th>\n",
       "      <td>NaN</td>\n",
       "      <td>29.000000</td>\n",
       "      <td>NaN</td>\n",
       "      <td>2010.000000</td>\n",
       "      <td>NaN</td>\n",
       "      <td>NaN</td>\n",
       "      <td>1.000000</td>\n",
       "      <td>1.000000</td>\n",
       "      <td>1.000000</td>\n",
       "      <td>1.000000</td>\n",
       "    </tr>\n",
       "    <tr>\n",
       "      <th>max</th>\n",
       "      <td>NaN</td>\n",
       "      <td>61.000000</td>\n",
       "      <td>NaN</td>\n",
       "      <td>2012.000000</td>\n",
       "      <td>NaN</td>\n",
       "      <td>NaN</td>\n",
       "      <td>8.000000</td>\n",
       "      <td>3.000000</td>\n",
       "      <td>3.000000</td>\n",
       "      <td>8.000000</td>\n",
       "    </tr>\n",
       "  </tbody>\n",
       "</table>\n",
       "</div>"
      ],
      "text/plain": [
       "                  name          age        country         year Date_Given  \\\n",
       "count             8613  8613.000000           8618  8618.000000       8618   \n",
       "unique            6955          NaN            110          NaN          7   \n",
       "top     Robert Scheidt          NaN  United States          NaN  8/24/2008   \n",
       "freq                 4          NaN           1109          NaN       1872   \n",
       "mean               NaN    26.405434            NaN  2005.978881        NaN   \n",
       "std                NaN     5.102118            NaN     4.289946        NaN   \n",
       "min                NaN    15.000000            NaN  2000.000000        NaN   \n",
       "25%                NaN    23.000000            NaN  2002.000000        NaN   \n",
       "50%                NaN    26.000000            NaN  2006.000000        NaN   \n",
       "75%                NaN    29.000000            NaN  2010.000000        NaN   \n",
       "max                NaN    61.000000            NaN  2012.000000        NaN   \n",
       "\n",
       "           sports   gold_medal  silver_medal  brone_medal  total_medal  \n",
       "count        8618  8618.000000   8618.000000  8618.000000  8618.000000  \n",
       "unique         49          NaN           NaN          NaN          NaN  \n",
       "top     Athletics          NaN           NaN          NaN          NaN  \n",
       "freq          687          NaN           NaN          NaN          NaN  \n",
       "mean          NaN     0.364702      0.363309     0.377698     1.105709  \n",
       "std           NaN     0.545349      0.511613     0.505005     0.408892  \n",
       "min           NaN     0.000000      0.000000     0.000000     1.000000  \n",
       "25%           NaN     0.000000      0.000000     0.000000     1.000000  \n",
       "50%           NaN     0.000000      0.000000     0.000000     1.000000  \n",
       "75%           NaN     1.000000      1.000000     1.000000     1.000000  \n",
       "max           NaN     8.000000      3.000000     3.000000     8.000000  "
      ]
     },
     "execution_count": 106,
     "metadata": {},
     "output_type": "execute_result"
    }
   ],
   "source": [
    "olympix.describe(include=\"all\")    # checking all the column min, max, count, top and all"
   ]
  },
  {
   "cell_type": "code",
   "execution_count": 107,
   "id": "dce9ef74",
   "metadata": {
    "scrolled": false
   },
   "outputs": [
    {
     "data": {
      "text/plain": [
       "name            5\n",
       "age             5\n",
       "country         0\n",
       "year            0\n",
       "Date_Given      0\n",
       "sports          0\n",
       "gold_medal      0\n",
       "silver_medal    0\n",
       "brone_medal     0\n",
       "total_medal     0\n",
       "dtype: int64"
      ]
     },
     "execution_count": 107,
     "metadata": {},
     "output_type": "execute_result"
    }
   ],
   "source": [
    "olympix.isnull().sum()       # here we can see the two column name and age both have 5 null values."
   ]
  },
  {
   "cell_type": "code",
   "execution_count": null,
   "id": "0f42998a",
   "metadata": {},
   "outputs": [],
   "source": []
  },
  {
   "cell_type": "markdown",
   "id": "30b46be9",
   "metadata": {},
   "source": [
    "### Deal with missing values appropriately. You can either remove them or fill them, but a proper justification is required."
   ]
  },
  {
   "cell_type": "code",
   "execution_count": 108,
   "id": "ed9f7777",
   "metadata": {},
   "outputs": [
    {
     "data": {
      "text/plain": [
       "<AxesSubplot:>"
      ]
     },
     "execution_count": 108,
     "metadata": {},
     "output_type": "execute_result"
    },
    {
     "data": {
      "image/png": "[encoded data removed]",
      "text/plain": [
       "<Figure size 1800x720 with 3 Axes>"
      ]
     },
     "metadata": {
      "needs_background": "light"
     },
     "output_type": "display_data"
    }
   ],
   "source": [
    "msno.bar(olympix)     # here we can see missing data in graphical terms.\n",
    "                      # name and age."
   ]
  },
  {
   "cell_type": "code",
   "execution_count": 109,
   "id": "3f537461",
   "metadata": {},
   "outputs": [
    {
     "name": "stderr",
     "output_type": "stream",
     "text": [
      "<ipython-input-109-f941e00330fc>:6: SettingWithCopyWarning: \n",
      "A value is trying to be set on a copy of a slice from a DataFrame\n",
      "\n",
      "See the caveats in the documentation: https://pandas.pydata.org/pandas-docs/stable/user_guide/indexing.html#returning-a-view-versus-a-copy\n",
      "  olympix[i][olympix[i].apply(lambda i: True if re.search('^\\s*$', str(i)) else False)]=None\n"
     ]
    }
   ],
   "source": [
    "# so here i have converted into Nan all the missing rows with the help of regex.\n",
    "\n",
    "import re    # here importing library\n",
    "\n",
    "for i in olympix.columns:\n",
    "    olympix[i][olympix[i].apply(lambda i: True if re.search('^\\s*$', str(i)) else False)]=None"
   ]
  },
  {
   "cell_type": "code",
   "execution_count": 110,
   "id": "8530e30b",
   "metadata": {},
   "outputs": [
    {
     "name": "stdout",
     "output_type": "stream",
     "text": [
      "                      name   age        country  year  Date_Given      sports  \\\n",
      "0           Michael Phelps  23.0  United States  2008   8/24/2008    Swimming   \n",
      "1           Michael Phelps  19.0  United States  2004   8/29/2004    Swimming   \n",
      "2           Michael Phelps  27.0  United States  2012  08-12-2012    Swimming   \n",
      "3         Natalie Coughlin  25.0  United States  2008   8/24/2008    Swimming   \n",
      "4            Aleksey Nemov  24.0         Russia  2000  10-01-2000  Gymnastics   \n",
      "...                    ...   ...            ...   ...         ...         ...   \n",
      "8613      Olena Sadovnycha  32.0        Ukraine  2000  10-01-2000     Archery   \n",
      "8614      Kateryna Serdiuk  17.0        Ukraine  2000  10-01-2000     Archery   \n",
      "8615      Wietse van Alten  21.0    Netherlands  2000  10-01-2000     Archery   \n",
      "8616  Sandra Wagner-Sachse  31.0        Germany  2000  10-01-2000     Archery   \n",
      "8617             Rod White  23.0  United States  2000  10-01-2000     Archery   \n",
      "\n",
      "      gold_medal  silver_medal  brone_medal  total_medal  \n",
      "0              8             0            0            8  \n",
      "1              6             0            2            8  \n",
      "2              4             2            0            6  \n",
      "3              1             2            3            6  \n",
      "4              2             1            3            6  \n",
      "...          ...           ...          ...          ...  \n",
      "8613           0             1            0            1  \n",
      "8614           0             1            0            1  \n",
      "8615           0             0            1            1  \n",
      "8616           0             0            1            1  \n",
      "8617           0             0            1            1  \n",
      "\n",
      "[8613 rows x 10 columns]\n"
     ]
    }
   ],
   "source": [
    "# in the above code i have converted missing or blank values into NaN. \n",
    "# here dropping all the rows that don't have the values or name or contain nan values also.\n",
    "# the purpose of deleting those rows is that doesn't contain or contain less information.\n",
    "# that's why i removed that rows from the dataFrame.\n",
    "\n",
    "# using dropna function to remove all nan rows.\n",
    "olympix = olympix.dropna()\n",
    "print(olympix)"
   ]
  },
  {
   "cell_type": "code",
   "execution_count": 111,
   "id": "e7826450",
   "metadata": {
    "scrolled": false
   },
   "outputs": [
    {
     "data": {
      "text/plain": [
       "name            0\n",
       "age             0\n",
       "country         0\n",
       "year            0\n",
       "Date_Given      0\n",
       "sports          0\n",
       "gold_medal      0\n",
       "silver_medal    0\n",
       "brone_medal     0\n",
       "total_medal     0\n",
       "dtype: int64"
      ]
     },
     "execution_count": 111,
     "metadata": {},
     "output_type": "execute_result"
    }
   ],
   "source": [
    "olympix.isnull().sum()   # checking all null values.\n",
    "                         # so here is no null values."
   ]
  },
  {
   "cell_type": "code",
   "execution_count": null,
   "id": "6c63c7a9",
   "metadata": {},
   "outputs": [],
   "source": []
  },
  {
   "cell_type": "markdown",
   "id": "4b5de830",
   "metadata": {},
   "source": [
    "## Duplicates in the dataset introduces bias in the study. Please check and perform appropriate steps"
   ]
  },
  {
   "cell_type": "code",
   "execution_count": 112,
   "id": "cf26fb82",
   "metadata": {},
   "outputs": [
    {
     "data": {
      "text/plain": [
       "0       False\n",
       "1       False\n",
       "2       False\n",
       "3       False\n",
       "4       False\n",
       "        ...  \n",
       "8613    False\n",
       "8614    False\n",
       "8615    False\n",
       "8616    False\n",
       "8617    False\n",
       "Length: 8613, dtype: bool"
      ]
     },
     "execution_count": 112,
     "metadata": {},
     "output_type": "execute_result"
    }
   ],
   "source": [
    "# dropping all duplicated values from the data.\n",
    "\n",
    "olympix.duplicated()"
   ]
  },
  {
   "cell_type": "code",
   "execution_count": 113,
   "id": "e1a33b3b",
   "metadata": {},
   "outputs": [
    {
     "data": {
      "text/plain": [
       "0"
      ]
     },
     "execution_count": 113,
     "metadata": {},
     "output_type": "execute_result"
    }
   ],
   "source": [
    "olympix.duplicated().sum()     # duplicated value is zero."
   ]
  },
  {
   "cell_type": "code",
   "execution_count": 117,
   "id": "99d3f339",
   "metadata": {},
   "outputs": [
    {
     "data": {
      "text/plain": [
       "1658"
      ]
     },
     "execution_count": 117,
     "metadata": {},
     "output_type": "execute_result"
    }
   ],
   "source": [
    "olympix['name'].duplicated().sum()   # checking duplicated name is 1658."
   ]
  },
  {
   "cell_type": "code",
   "execution_count": 118,
   "id": "1c26ccc5",
   "metadata": {},
   "outputs": [],
   "source": [
    "olympix = olympix.drop_duplicates()    # droping duplicated values."
   ]
  },
  {
   "cell_type": "code",
   "execution_count": null,
   "id": "d9d1ffbe",
   "metadata": {},
   "outputs": [],
   "source": []
  },
  {
   "cell_type": "markdown",
   "id": "e3584aa5",
   "metadata": {},
   "source": [
    "## Please remove special characters from the name column."
   ]
  },
  {
   "cell_type": "code",
   "execution_count": 119,
   "id": "25256f5d",
   "metadata": {},
   "outputs": [],
   "source": [
    "# importing string\n",
    "import string\n",
    "# calling all ascii letters and string\n",
    "alphabet = string.ascii_letters+string.punctuation"
   ]
  },
  {
   "cell_type": "code",
   "execution_count": 120,
   "id": "945802e9",
   "metadata": {},
   "outputs": [],
   "source": [
    "# removing all the special characters from the dataset.\n",
    "\n",
    "olympix = olympix.replace('\\*a-zA-Z !@#$%_+-=|:<>,.()[]{}',regex=True)"
   ]
  },
  {
   "cell_type": "code",
   "execution_count": null,
   "id": "1e7da834",
   "metadata": {},
   "outputs": [],
   "source": []
  },
  {
   "cell_type": "code",
   "execution_count": 121,
   "id": "7817a820",
   "metadata": {},
   "outputs": [],
   "source": [
    "# so, here i am changing dtype of the column.\n",
    "\n",
    "olympix['sports'] = olympix['sports'].astype('category')\n",
    "olympix['age'] = olympix['age'].astype('int')"
   ]
  },
  {
   "cell_type": "code",
   "execution_count": null,
   "id": "90bd99d8",
   "metadata": {},
   "outputs": [],
   "source": []
  },
  {
   "cell_type": "markdown",
   "id": "2ebc7d6c",
   "metadata": {},
   "source": [
    "## Perform data visualization techniques to appropriate columns and explain them. "
   ]
  },
  {
   "cell_type": "code",
   "execution_count": 125,
   "id": "229cb24a",
   "metadata": {},
   "outputs": [
    {
     "data": {
      "text/plain": [
       "<AxesSubplot:xlabel='total_medal', ylabel='year'>"
      ]
     },
     "execution_count": 125,
     "metadata": {},
     "output_type": "execute_result"
    },
    {
     "data": {
      "image/png": "[encoded data removed]",
      "text/plain": [
       "<Figure size 432x288 with 1 Axes>"
      ]
     },
     "metadata": {
      "needs_background": "light"
     },
     "output_type": "display_data"
    }
   ],
   "source": [
    "# here i am comparing year with total_medal.\n",
    "# so, we can see that the upper whisker of all total_medal and there is no outliers.\n",
    "# the highest medal is won in between 2005 to 2007.\n",
    "# so, we can see the year with comparing total_medal.\n",
    "\n",
    "sns.boxplot(x='total_medal',y='year',data=olympix)"
   ]
  },
  {
   "cell_type": "code",
   "execution_count": 126,
   "id": "ffc893ce",
   "metadata": {},
   "outputs": [
    {
     "data": {
      "text/plain": [
       "<AxesSubplot:xlabel='total_medal', ylabel='age'>"
      ]
     },
     "execution_count": 126,
     "metadata": {},
     "output_type": "execute_result"
    },
    {
     "data": {
      "image/png": "[encoded data removed]",
      "text/plain": [
       "<Figure size 432x288 with 1 Axes>"
      ]
     },
     "metadata": {
      "needs_background": "light"
     },
     "output_type": "display_data"
    }
   ],
   "source": [
    "# here i am comparing total_medal with age.\n",
    "# so the highest oulier is in \"1\" total_medal. the highest ouliers in \"1\" category is above 60.\n",
    "# we can see the highest medal which is 8 won age group is 20 to 24.\n",
    "\n",
    "sns.boxplot(x='total_medal',y='age',data=olympix)"
   ]
  },
  {
   "cell_type": "code",
   "execution_count": 128,
   "id": "cffdb41a",
   "metadata": {
    "scrolled": true
   },
   "outputs": [
    {
     "data": {
      "text/plain": [
       "<AxesSubplot:xlabel='gold_medal', ylabel='age'>"
      ]
     },
     "execution_count": 128,
     "metadata": {},
     "output_type": "execute_result"
    },
    {
     "data": {
      "image/png": "[encoded data removed]",
      "text/plain": [
       "<Figure size 432x288 with 1 Axes>"
      ]
     },
     "metadata": {
      "needs_background": "light"
     },
     "output_type": "display_data"
    }
   ],
   "source": [
    "# here i am comparing gold_medal with age column.\n",
    "# the highest outlier is in 0.\n",
    "# so, we can see which age group have won the medal.\n",
    "# the highest medal won age group is 25. \n",
    "\n",
    "sns.boxplot(x='gold_medal',y='age',data=olympix)"
   ]
  },
  {
   "cell_type": "code",
   "execution_count": null,
   "id": "ae4530f2",
   "metadata": {},
   "outputs": [],
   "source": []
  },
  {
   "cell_type": "markdown",
   "id": "4ed7c236",
   "metadata": {},
   "source": [
    "## Please check if the age dataset is skewed or symmetric. Based on results perform transformation."
   ]
  },
  {
   "cell_type": "code",
   "execution_count": 129,
   "id": "d2c75bb5",
   "metadata": {
    "scrolled": true
   },
   "outputs": [
    {
     "data": {
      "text/plain": [
       "<matplotlib.lines.Line2D at 0x22a2d9bca60>"
      ]
     },
     "execution_count": 129,
     "metadata": {},
     "output_type": "execute_result"
    },
    {
     "data": {
      "image/png": "[encoded data removed]",
      "text/plain": [
       "<Figure size 432x288 with 1 Axes>"
      ]
     },
     "metadata": {
      "needs_background": "light"
     },
     "output_type": "display_data"
    }
   ],
   "source": [
    "# here i am checking skewness in age column.\n",
    "# age attribute is skewed.\n",
    "# it is positively skewed or moving toward the right.\n",
    "# the mean and median line is cllose to each other.\n",
    "# and the outliers are high here.\n",
    "\n",
    "sns.histplot(data=olympix['age'],kde=True)\n",
    "plt.axvline(x=olympix.age.mean(),c=\"red\", alpha=0.5, label=\"mean\")\n",
    "plt.axvline(x=olympix.age.median(),c=\"blue\", alpha=0.5, ls=\"--\", label=\"median\")"
   ]
  },
  {
   "cell_type": "code",
   "execution_count": null,
   "id": "6dfdd286",
   "metadata": {},
   "outputs": [],
   "source": []
  },
  {
   "cell_type": "markdown",
   "id": "24948450",
   "metadata": {},
   "source": [
    "## Please perform appropriate numerical measures on each column and report them accordingly."
   ]
  },
  {
   "cell_type": "code",
   "execution_count": 132,
   "id": "ab370f91",
   "metadata": {},
   "outputs": [
    {
     "data": {
      "text/plain": [
       "<AxesSubplot:xlabel='year', ylabel='gold_medal'>"
      ]
     },
     "execution_count": 132,
     "metadata": {},
     "output_type": "execute_result"
    },
    {
     "data": {
      "image/png": "[encoded data removed]",
      "text/plain": [
       "<Figure size 432x288 with 1 Axes>"
      ]
     },
     "metadata": {
      "needs_background": "light"
     },
     "output_type": "display_data"
    }
   ],
   "source": [
    "# here i am comparing year with gold_medal.\n",
    "# according to me, the highest oulier is in 2008.\n",
    "# the mostly won medal is 2 in every year.\n",
    "\n",
    "sns.boxplot(x='year',y='gold_medal',data=olympix)"
   ]
  },
  {
   "cell_type": "code",
   "execution_count": 134,
   "id": "1f3d90d3",
   "metadata": {},
   "outputs": [
    {
     "data": {
      "text/plain": [
       "<AxesSubplot:xlabel='silver_medal', ylabel='year'>"
      ]
     },
     "execution_count": 134,
     "metadata": {},
     "output_type": "execute_result"
    },
    {
     "data": {
      "image/png": "[encoded data removed]",
      "text/plain": [
       "<Figure size 432x288 with 1 Axes>"
      ]
     },
     "metadata": {
      "needs_background": "light"
     },
     "output_type": "display_data"
    }
   ],
   "source": [
    "# here i am comparing year with silver_medal.\n",
    "# the highest outlier is in 3.\n",
    "# 0,1,2 silver_medal is normal in every year. \n",
    "\n",
    "sns.boxplot(x='silver_medal',y='year',data=olympix)"
   ]
  },
  {
   "cell_type": "code",
   "execution_count": 137,
   "id": "071dfcbc",
   "metadata": {},
   "outputs": [
    {
     "data": {
      "text/plain": [
       "<AxesSubplot:xlabel='brone_medal', ylabel='year'>"
      ]
     },
     "execution_count": 137,
     "metadata": {},
     "output_type": "execute_result"
    },
    {
     "data": {
      "image/png": "[encoded data removed]",
      "text/plain": [
       "<Figure size 432x288 with 1 Axes>"
      ]
     },
     "metadata": {
      "needs_background": "light"
     },
     "output_type": "display_data"
    }
   ],
   "source": [
    "# here i am comparing year with brone_medal. here i am using boxplot plot\n",
    "# in the brone_medal 0,1,2 is normal.\n",
    "# the upper whisker is same in 0,1,2 but in 3 is less which is 2008.\n",
    "\n",
    "sns.boxplot(x='brone_medal',y='year',data=olympix)"
   ]
  },
  {
   "cell_type": "code",
   "execution_count": 138,
   "id": "911bee29",
   "metadata": {},
   "outputs": [
    {
     "data": {
      "text/plain": [
       "<AxesSubplot:xlabel='year', ylabel='total_medal'>"
      ]
     },
     "execution_count": 138,
     "metadata": {},
     "output_type": "execute_result"
    },
    {
     "data": {
      "image/png": "[encoded data removed]",
      "text/plain": [
       "<Figure size 432x288 with 1 Axes>"
      ]
     },
     "metadata": {
      "needs_background": "light"
     },
     "output_type": "display_data"
    }
   ],
   "source": [
    "# here i am checking total_medal won in the year.\n",
    "# according to me boxplot is best to understand outliers and all.\n",
    "# in 2004 and 2008 is the year the oulier is high which is 8 total_medal.\n",
    "# the less ouliers is in 2002.\n",
    "\n",
    "sns.boxplot(x='year',y='total_medal',data=olympix)"
   ]
  },
  {
   "cell_type": "code",
   "execution_count": null,
   "id": "f1c55f25",
   "metadata": {},
   "outputs": [],
   "source": []
  },
  {
   "cell_type": "markdown",
   "id": "fe5b3b0d",
   "metadata": {},
   "source": [
    "## Please list the top 10 countries with the gold medal, then top10 countries with the silver medal, then bronze medal and the total medal."
   ]
  },
  {
   "cell_type": "markdown",
   "id": "66ddd453",
   "metadata": {},
   "source": [
    "#### top 10 countries with the gold medal"
   ]
  },
  {
   "cell_type": "code",
   "execution_count": 139,
   "id": "f23748a3",
   "metadata": {},
   "outputs": [],
   "source": [
    "top_gold = olympix[[\"country\",\"gold_medal\"]]   # selecting country and gold_medal column."
   ]
  },
  {
   "cell_type": "code",
   "execution_count": 140,
   "id": "09e9eccd",
   "metadata": {},
   "outputs": [
    {
     "data": {
      "text/html": [
       "<div>\n",
       "<style scoped>\n",
       "    .dataframe tbody tr th:only-of-type {\n",
       "        vertical-align: middle;\n",
       "    }\n",
       "\n",
       "    .dataframe tbody tr th {\n",
       "        vertical-align: top;\n",
       "    }\n",
       "\n",
       "    .dataframe thead th {\n",
       "        text-align: right;\n",
       "    }\n",
       "</style>\n",
       "<table border=\"1\" class=\"dataframe\">\n",
       "  <thead>\n",
       "    <tr style=\"text-align: right;\">\n",
       "      <th></th>\n",
       "      <th>country</th>\n",
       "      <th>gold_medal</th>\n",
       "    </tr>\n",
       "  </thead>\n",
       "  <tbody>\n",
       "    <tr>\n",
       "      <th>0</th>\n",
       "      <td>United States</td>\n",
       "      <td>8</td>\n",
       "    </tr>\n",
       "    <tr>\n",
       "      <th>1</th>\n",
       "      <td>United States</td>\n",
       "      <td>6</td>\n",
       "    </tr>\n",
       "    <tr>\n",
       "      <th>2</th>\n",
       "      <td>United States</td>\n",
       "      <td>4</td>\n",
       "    </tr>\n",
       "    <tr>\n",
       "      <th>6</th>\n",
       "      <td>United States</td>\n",
       "      <td>4</td>\n",
       "    </tr>\n",
       "    <tr>\n",
       "      <th>34</th>\n",
       "      <td>Norway</td>\n",
       "      <td>4</td>\n",
       "    </tr>\n",
       "    <tr>\n",
       "      <th>8</th>\n",
       "      <td>United States</td>\n",
       "      <td>3</td>\n",
       "    </tr>\n",
       "    <tr>\n",
       "      <th>10</th>\n",
       "      <td>Australia</td>\n",
       "      <td>3</td>\n",
       "    </tr>\n",
       "    <tr>\n",
       "      <th>14</th>\n",
       "      <td>Norway</td>\n",
       "      <td>3</td>\n",
       "    </tr>\n",
       "    <tr>\n",
       "      <th>20</th>\n",
       "      <td>Australia</td>\n",
       "      <td>3</td>\n",
       "    </tr>\n",
       "    <tr>\n",
       "      <th>22</th>\n",
       "      <td>Netherlands</td>\n",
       "      <td>3</td>\n",
       "    </tr>\n",
       "  </tbody>\n",
       "</table>\n",
       "</div>"
      ],
      "text/plain": [
       "          country  gold_medal\n",
       "0   United States           8\n",
       "1   United States           6\n",
       "2   United States           4\n",
       "6   United States           4\n",
       "34         Norway           4\n",
       "8   United States           3\n",
       "10      Australia           3\n",
       "14         Norway           3\n",
       "20      Australia           3\n",
       "22    Netherlands           3"
      ]
     },
     "execution_count": 140,
     "metadata": {},
     "output_type": "execute_result"
    }
   ],
   "source": [
    "top_gold.nlargest(10,\"gold_medal\")     # finding 10 largest in gold_medal."
   ]
  },
  {
   "cell_type": "markdown",
   "id": "6aac3413",
   "metadata": {},
   "source": [
    "#### top 10 countries with the silver medal"
   ]
  },
  {
   "cell_type": "code",
   "execution_count": 141,
   "id": "a5bc198a",
   "metadata": {},
   "outputs": [],
   "source": [
    "top_silver = olympix[[\"country\",\"silver_medal\"]]    # selecting country and silver_medal column."
   ]
  },
  {
   "cell_type": "code",
   "execution_count": 142,
   "id": "0b7b3bc2",
   "metadata": {},
   "outputs": [
    {
     "data": {
      "text/html": [
       "<div>\n",
       "<style scoped>\n",
       "    .dataframe tbody tr th:only-of-type {\n",
       "        vertical-align: middle;\n",
       "    }\n",
       "\n",
       "    .dataframe tbody tr th {\n",
       "        vertical-align: top;\n",
       "    }\n",
       "\n",
       "    .dataframe thead th {\n",
       "        text-align: right;\n",
       "    }\n",
       "</style>\n",
       "<table border=\"1\" class=\"dataframe\">\n",
       "  <thead>\n",
       "    <tr style=\"text-align: right;\">\n",
       "      <th></th>\n",
       "      <th>country</th>\n",
       "      <th>silver_medal</th>\n",
       "    </tr>\n",
       "  </thead>\n",
       "  <tbody>\n",
       "    <tr>\n",
       "      <th>5</th>\n",
       "      <td>Australia</td>\n",
       "      <td>3</td>\n",
       "    </tr>\n",
       "    <tr>\n",
       "      <th>13</th>\n",
       "      <td>United States</td>\n",
       "      <td>3</td>\n",
       "    </tr>\n",
       "    <tr>\n",
       "      <th>16</th>\n",
       "      <td>Zimbabwe</td>\n",
       "      <td>3</td>\n",
       "    </tr>\n",
       "    <tr>\n",
       "      <th>25</th>\n",
       "      <td>Australia</td>\n",
       "      <td>3</td>\n",
       "    </tr>\n",
       "    <tr>\n",
       "      <th>30</th>\n",
       "      <td>United States</td>\n",
       "      <td>3</td>\n",
       "    </tr>\n",
       "    <tr>\n",
       "      <th>50</th>\n",
       "      <td>Hungary</td>\n",
       "      <td>3</td>\n",
       "    </tr>\n",
       "    <tr>\n",
       "      <th>64</th>\n",
       "      <td>United States</td>\n",
       "      <td>3</td>\n",
       "    </tr>\n",
       "    <tr>\n",
       "      <th>103</th>\n",
       "      <td>United States</td>\n",
       "      <td>3</td>\n",
       "    </tr>\n",
       "    <tr>\n",
       "      <th>138</th>\n",
       "      <td>Germany</td>\n",
       "      <td>3</td>\n",
       "    </tr>\n",
       "    <tr>\n",
       "      <th>2</th>\n",
       "      <td>United States</td>\n",
       "      <td>2</td>\n",
       "    </tr>\n",
       "  </tbody>\n",
       "</table>\n",
       "</div>"
      ],
      "text/plain": [
       "           country  silver_medal\n",
       "5        Australia             3\n",
       "13   United States             3\n",
       "16        Zimbabwe             3\n",
       "25       Australia             3\n",
       "30   United States             3\n",
       "50         Hungary             3\n",
       "64   United States             3\n",
       "103  United States             3\n",
       "138        Germany             3\n",
       "2    United States             2"
      ]
     },
     "execution_count": 142,
     "metadata": {},
     "output_type": "execute_result"
    }
   ],
   "source": [
    "top_silver.nlargest(10,\"silver_medal\")              # finding 10 largest in silver_medal."
   ]
  },
  {
   "cell_type": "markdown",
   "id": "7d6e4f15",
   "metadata": {},
   "source": [
    "#### top 10 countries with the bronze medal."
   ]
  },
  {
   "cell_type": "code",
   "execution_count": 143,
   "id": "06de617e",
   "metadata": {},
   "outputs": [],
   "source": [
    "top_bronze = olympix[[\"country\",\"brone_medal\"]]       # selecting country and brone_medal column."
   ]
  },
  {
   "cell_type": "code",
   "execution_count": 144,
   "id": "7ae29a50",
   "metadata": {},
   "outputs": [
    {
     "data": {
      "text/html": [
       "<div>\n",
       "<style scoped>\n",
       "    .dataframe tbody tr th:only-of-type {\n",
       "        vertical-align: middle;\n",
       "    }\n",
       "\n",
       "    .dataframe tbody tr th {\n",
       "        vertical-align: top;\n",
       "    }\n",
       "\n",
       "    .dataframe thead th {\n",
       "        text-align: right;\n",
       "    }\n",
       "</style>\n",
       "<table border=\"1\" class=\"dataframe\">\n",
       "  <thead>\n",
       "    <tr style=\"text-align: right;\">\n",
       "      <th></th>\n",
       "      <th>country</th>\n",
       "      <th>brone_medal</th>\n",
       "    </tr>\n",
       "  </thead>\n",
       "  <tbody>\n",
       "    <tr>\n",
       "      <th>3</th>\n",
       "      <td>United States</td>\n",
       "      <td>3</td>\n",
       "    </tr>\n",
       "    <tr>\n",
       "      <th>4</th>\n",
       "      <td>Russia</td>\n",
       "      <td>3</td>\n",
       "    </tr>\n",
       "    <tr>\n",
       "      <th>11</th>\n",
       "      <td>United States</td>\n",
       "      <td>3</td>\n",
       "    </tr>\n",
       "    <tr>\n",
       "      <th>66</th>\n",
       "      <td>Germany</td>\n",
       "      <td>3</td>\n",
       "    </tr>\n",
       "    <tr>\n",
       "      <th>106</th>\n",
       "      <td>Austria</td>\n",
       "      <td>3</td>\n",
       "    </tr>\n",
       "    <tr>\n",
       "      <th>1</th>\n",
       "      <td>United States</td>\n",
       "      <td>2</td>\n",
       "    </tr>\n",
       "    <tr>\n",
       "      <th>12</th>\n",
       "      <td>Canada</td>\n",
       "      <td>2</td>\n",
       "    </tr>\n",
       "    <tr>\n",
       "      <th>18</th>\n",
       "      <td>United States</td>\n",
       "      <td>2</td>\n",
       "    </tr>\n",
       "    <tr>\n",
       "      <th>19</th>\n",
       "      <td>Netherlands</td>\n",
       "      <td>2</td>\n",
       "    </tr>\n",
       "    <tr>\n",
       "      <th>27</th>\n",
       "      <td>Netherlands</td>\n",
       "      <td>2</td>\n",
       "    </tr>\n",
       "  </tbody>\n",
       "</table>\n",
       "</div>"
      ],
      "text/plain": [
       "           country  brone_medal\n",
       "3    United States            3\n",
       "4           Russia            3\n",
       "11   United States            3\n",
       "66         Germany            3\n",
       "106        Austria            3\n",
       "1    United States            2\n",
       "12          Canada            2\n",
       "18   United States            2\n",
       "19     Netherlands            2\n",
       "27     Netherlands            2"
      ]
     },
     "execution_count": 144,
     "metadata": {},
     "output_type": "execute_result"
    }
   ],
   "source": [
    "top_bronze.nlargest(10,\"brone_medal\")                 # finding 10 largest in brone_medal."
   ]
  },
  {
   "cell_type": "markdown",
   "id": "cee459b3",
   "metadata": {},
   "source": [
    "#### top 10 countries with the total medal."
   ]
  },
  {
   "cell_type": "code",
   "execution_count": 145,
   "id": "5d996d92",
   "metadata": {},
   "outputs": [],
   "source": [
    "top_total = olympix[[\"country\",\"total_medal\"]]       # selecting country and total_medal column."
   ]
  },
  {
   "cell_type": "code",
   "execution_count": 146,
   "id": "ecb59b00",
   "metadata": {},
   "outputs": [
    {
     "data": {
      "text/html": [
       "<div>\n",
       "<style scoped>\n",
       "    .dataframe tbody tr th:only-of-type {\n",
       "        vertical-align: middle;\n",
       "    }\n",
       "\n",
       "    .dataframe tbody tr th {\n",
       "        vertical-align: top;\n",
       "    }\n",
       "\n",
       "    .dataframe thead th {\n",
       "        text-align: right;\n",
       "    }\n",
       "</style>\n",
       "<table border=\"1\" class=\"dataframe\">\n",
       "  <thead>\n",
       "    <tr style=\"text-align: right;\">\n",
       "      <th></th>\n",
       "      <th>country</th>\n",
       "      <th>total_medal</th>\n",
       "    </tr>\n",
       "  </thead>\n",
       "  <tbody>\n",
       "    <tr>\n",
       "      <th>0</th>\n",
       "      <td>United States</td>\n",
       "      <td>8</td>\n",
       "    </tr>\n",
       "    <tr>\n",
       "      <th>1</th>\n",
       "      <td>United States</td>\n",
       "      <td>8</td>\n",
       "    </tr>\n",
       "    <tr>\n",
       "      <th>2</th>\n",
       "      <td>United States</td>\n",
       "      <td>6</td>\n",
       "    </tr>\n",
       "    <tr>\n",
       "      <th>3</th>\n",
       "      <td>United States</td>\n",
       "      <td>6</td>\n",
       "    </tr>\n",
       "    <tr>\n",
       "      <th>4</th>\n",
       "      <td>Russia</td>\n",
       "      <td>6</td>\n",
       "    </tr>\n",
       "    <tr>\n",
       "      <th>5</th>\n",
       "      <td>Australia</td>\n",
       "      <td>5</td>\n",
       "    </tr>\n",
       "    <tr>\n",
       "      <th>6</th>\n",
       "      <td>United States</td>\n",
       "      <td>5</td>\n",
       "    </tr>\n",
       "    <tr>\n",
       "      <th>7</th>\n",
       "      <td>United States</td>\n",
       "      <td>5</td>\n",
       "    </tr>\n",
       "    <tr>\n",
       "      <th>8</th>\n",
       "      <td>United States</td>\n",
       "      <td>5</td>\n",
       "    </tr>\n",
       "    <tr>\n",
       "      <th>9</th>\n",
       "      <td>United States</td>\n",
       "      <td>5</td>\n",
       "    </tr>\n",
       "  </tbody>\n",
       "</table>\n",
       "</div>"
      ],
      "text/plain": [
       "         country  total_medal\n",
       "0  United States            8\n",
       "1  United States            8\n",
       "2  United States            6\n",
       "3  United States            6\n",
       "4         Russia            6\n",
       "5      Australia            5\n",
       "6  United States            5\n",
       "7  United States            5\n",
       "8  United States            5\n",
       "9  United States            5"
      ]
     },
     "execution_count": 146,
     "metadata": {},
     "output_type": "execute_result"
    }
   ],
   "source": [
    "top_total.nlargest(10,\"total_medal\")                 # finding 10 largest in total_medal."
   ]
  },
  {
   "cell_type": "code",
   "execution_count": null,
   "id": "9d796ddd",
   "metadata": {},
   "outputs": [],
   "source": []
  }
 ],
 "metadata": {
  "kernelspec": {
   "display_name": "Python 3",
   "language": "python",
   "name": "python3"
  },
  "language_info": {
   "codemirror_mode": {
    "name": "ipython",
    "version": 3
   },
   "file_extension": ".py",
   "mimetype": "text/x-python",
   "name": "python",
   "nbconvert_exporter": "python",
   "pygments_lexer": "ipython3",
   "version": "3.8.8"
  }
 },
 "nbformat": 4,
 "nbformat_minor": 5
}
